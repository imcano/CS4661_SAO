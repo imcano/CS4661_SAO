{
 "cells": [
  {
   "cell_type": "code",
   "execution_count": 21,
   "metadata": {},
   "outputs": [],
   "source": [
    "import pandas as pd\n",
    "from sklearn.model_selection import train_test_split\n",
    "from sklearn.neighbors import KNeighborsClassifier\n",
    "from sklearn.metrics import accuracy_score\n",
    "from sklearn.linear_model import LogisticRegression\n",
    "from sklearn.tree import DecisionTreeClassifier\n",
    "from sklearn.preprocessing import OneHotEncoder\n",
    "from sklearn.preprocessing import LabelEncoder\n",
    "from sklearn.model_selection import cross_val_score\n",
    "from sklearn.preprocessing import OneHotEncoder\n",
    "from sklearn import preprocessing \n",
    "from sklearn.linear_model import LinearRegression\n",
    "from sklearn import metrics\n",
    "import numpy as np\n",
    "import matplotlib.pyplot as plt"
   ]
  },
  {
   "cell_type": "code",
   "execution_count": 22,
   "metadata": {},
   "outputs": [],
   "source": [
    "df =  pd.read_csv('../train_V2.csv')"
   ]
  },
  {
   "cell_type": "code",
   "execution_count": 23,
   "metadata": {},
   "outputs": [
    {
     "data": {
      "text/html": [
       "<div>\n",
       "<style scoped>\n",
       "    .dataframe tbody tr th:only-of-type {\n",
       "        vertical-align: middle;\n",
       "    }\n",
       "\n",
       "    .dataframe tbody tr th {\n",
       "        vertical-align: top;\n",
       "    }\n",
       "\n",
       "    .dataframe thead th {\n",
       "        text-align: right;\n",
       "    }\n",
       "</style>\n",
       "<table border=\"1\" class=\"dataframe\">\n",
       "  <thead>\n",
       "    <tr style=\"text-align: right;\">\n",
       "      <th></th>\n",
       "      <th>Unnamed: 0</th>\n",
       "      <th>OutcomeType</th>\n",
       "      <th>Cat</th>\n",
       "      <th>Dog</th>\n",
       "      <th>Female</th>\n",
       "      <th>Intact</th>\n",
       "      <th>Male</th>\n",
       "      <th>Neutered</th>\n",
       "      <th>Spayed</th>\n",
       "      <th>Age</th>\n",
       "      <th>...</th>\n",
       "      <th>Tan</th>\n",
       "      <th>Tick</th>\n",
       "      <th>Tiger</th>\n",
       "      <th>Torbie</th>\n",
       "      <th>Tortie</th>\n",
       "      <th>Tricolor</th>\n",
       "      <th>White</th>\n",
       "      <th>Yellow</th>\n",
       "      <th>Mixed</th>\n",
       "      <th>Purebred</th>\n",
       "    </tr>\n",
       "  </thead>\n",
       "  <tbody>\n",
       "    <tr>\n",
       "      <th>0</th>\n",
       "      <td>0</td>\n",
       "      <td>Return_to_owner</td>\n",
       "      <td>0</td>\n",
       "      <td>1</td>\n",
       "      <td>0</td>\n",
       "      <td>0</td>\n",
       "      <td>1</td>\n",
       "      <td>1</td>\n",
       "      <td>0</td>\n",
       "      <td>365</td>\n",
       "      <td>...</td>\n",
       "      <td>0</td>\n",
       "      <td>0</td>\n",
       "      <td>0</td>\n",
       "      <td>0</td>\n",
       "      <td>0</td>\n",
       "      <td>0</td>\n",
       "      <td>1</td>\n",
       "      <td>0</td>\n",
       "      <td>1</td>\n",
       "      <td>0</td>\n",
       "    </tr>\n",
       "    <tr>\n",
       "      <th>1</th>\n",
       "      <td>1</td>\n",
       "      <td>Euthanasia</td>\n",
       "      <td>1</td>\n",
       "      <td>0</td>\n",
       "      <td>1</td>\n",
       "      <td>0</td>\n",
       "      <td>0</td>\n",
       "      <td>0</td>\n",
       "      <td>1</td>\n",
       "      <td>365</td>\n",
       "      <td>...</td>\n",
       "      <td>0</td>\n",
       "      <td>0</td>\n",
       "      <td>0</td>\n",
       "      <td>0</td>\n",
       "      <td>0</td>\n",
       "      <td>0</td>\n",
       "      <td>0</td>\n",
       "      <td>0</td>\n",
       "      <td>1</td>\n",
       "      <td>0</td>\n",
       "    </tr>\n",
       "    <tr>\n",
       "      <th>2</th>\n",
       "      <td>2</td>\n",
       "      <td>Adoption</td>\n",
       "      <td>0</td>\n",
       "      <td>1</td>\n",
       "      <td>0</td>\n",
       "      <td>0</td>\n",
       "      <td>1</td>\n",
       "      <td>1</td>\n",
       "      <td>0</td>\n",
       "      <td>730</td>\n",
       "      <td>...</td>\n",
       "      <td>0</td>\n",
       "      <td>0</td>\n",
       "      <td>0</td>\n",
       "      <td>0</td>\n",
       "      <td>0</td>\n",
       "      <td>0</td>\n",
       "      <td>1</td>\n",
       "      <td>0</td>\n",
       "      <td>1</td>\n",
       "      <td>0</td>\n",
       "    </tr>\n",
       "    <tr>\n",
       "      <th>3</th>\n",
       "      <td>3</td>\n",
       "      <td>Transfer</td>\n",
       "      <td>1</td>\n",
       "      <td>0</td>\n",
       "      <td>0</td>\n",
       "      <td>1</td>\n",
       "      <td>1</td>\n",
       "      <td>0</td>\n",
       "      <td>0</td>\n",
       "      <td>21</td>\n",
       "      <td>...</td>\n",
       "      <td>0</td>\n",
       "      <td>0</td>\n",
       "      <td>0</td>\n",
       "      <td>0</td>\n",
       "      <td>0</td>\n",
       "      <td>0</td>\n",
       "      <td>0</td>\n",
       "      <td>0</td>\n",
       "      <td>1</td>\n",
       "      <td>0</td>\n",
       "    </tr>\n",
       "    <tr>\n",
       "      <th>4</th>\n",
       "      <td>4</td>\n",
       "      <td>Transfer</td>\n",
       "      <td>0</td>\n",
       "      <td>1</td>\n",
       "      <td>0</td>\n",
       "      <td>0</td>\n",
       "      <td>1</td>\n",
       "      <td>1</td>\n",
       "      <td>0</td>\n",
       "      <td>730</td>\n",
       "      <td>...</td>\n",
       "      <td>1</td>\n",
       "      <td>0</td>\n",
       "      <td>0</td>\n",
       "      <td>0</td>\n",
       "      <td>0</td>\n",
       "      <td>0</td>\n",
       "      <td>0</td>\n",
       "      <td>0</td>\n",
       "      <td>0</td>\n",
       "      <td>1</td>\n",
       "    </tr>\n",
       "  </tbody>\n",
       "</table>\n",
       "<p>5 rows × 48 columns</p>\n",
       "</div>"
      ],
      "text/plain": [
       "   Unnamed: 0      OutcomeType  Cat  Dog  Female  Intact  Male  Neutered  \\\n",
       "0           0  Return_to_owner    0    1       0       0     1         1   \n",
       "1           1       Euthanasia    1    0       1       0     0         0   \n",
       "2           2         Adoption    0    1       0       0     1         1   \n",
       "3           3         Transfer    1    0       0       1     1         0   \n",
       "4           4         Transfer    0    1       0       0     1         1   \n",
       "\n",
       "   Spayed  Age    ...     Tan  Tick  Tiger  Torbie  Tortie  Tricolor  White  \\\n",
       "0       0  365    ...       0     0      0       0       0         0      1   \n",
       "1       1  365    ...       0     0      0       0       0         0      0   \n",
       "2       0  730    ...       0     0      0       0       0         0      1   \n",
       "3       0   21    ...       0     0      0       0       0         0      0   \n",
       "4       0  730    ...       1     0      0       0       0         0      0   \n",
       "\n",
       "   Yellow  Mixed  Purebred  \n",
       "0       0      1         0  \n",
       "1       0      1         0  \n",
       "2       0      1         0  \n",
       "3       0      1         0  \n",
       "4       0      0         1  \n",
       "\n",
       "[5 rows x 48 columns]"
      ]
     },
     "execution_count": 23,
     "metadata": {},
     "output_type": "execute_result"
    }
   ],
   "source": [
    "df[:5]"
   ]
  },
  {
   "cell_type": "code",
   "execution_count": 24,
   "metadata": {},
   "outputs": [],
   "source": [
    "feature_cols = [\"Cat\",\"Dog\",\"Female\",\"Intact\",\"Male\",\"Neutered\",\"Age\",\"Spayed\",\"Purebred\"]"
   ]
  },
  {
   "cell_type": "code",
   "execution_count": 25,
   "metadata": {},
   "outputs": [],
   "source": [
    "X = df[feature_cols]"
   ]
  },
  {
   "cell_type": "code",
   "execution_count": 26,
   "metadata": {},
   "outputs": [],
   "source": [
    "y = df['OutcomeType']"
   ]
  },
  {
   "cell_type": "code",
   "execution_count": 27,
   "metadata": {},
   "outputs": [
    {
     "data": {
      "text/plain": [
       "0    Return_to_owner\n",
       "1         Euthanasia\n",
       "2           Adoption\n",
       "3           Transfer\n",
       "4           Transfer\n",
       "5           Transfer\n",
       "6           Transfer\n",
       "7           Transfer\n",
       "8           Adoption\n",
       "9           Adoption\n",
       "Name: OutcomeType, dtype: object"
      ]
     },
     "execution_count": 27,
     "metadata": {},
     "output_type": "execute_result"
    }
   ],
   "source": [
    "y[:10]"
   ]
  },
  {
   "cell_type": "code",
   "execution_count": 28,
   "metadata": {},
   "outputs": [
    {
     "data": {
      "text/html": [
       "<div>\n",
       "<style scoped>\n",
       "    .dataframe tbody tr th:only-of-type {\n",
       "        vertical-align: middle;\n",
       "    }\n",
       "\n",
       "    .dataframe tbody tr th {\n",
       "        vertical-align: top;\n",
       "    }\n",
       "\n",
       "    .dataframe thead th {\n",
       "        text-align: right;\n",
       "    }\n",
       "</style>\n",
       "<table border=\"1\" class=\"dataframe\">\n",
       "  <thead>\n",
       "    <tr style=\"text-align: right;\">\n",
       "      <th></th>\n",
       "      <th>Cat</th>\n",
       "      <th>Dog</th>\n",
       "      <th>Female</th>\n",
       "      <th>Intact</th>\n",
       "      <th>Male</th>\n",
       "      <th>Neutered</th>\n",
       "      <th>Age</th>\n",
       "      <th>Spayed</th>\n",
       "      <th>Purebred</th>\n",
       "    </tr>\n",
       "  </thead>\n",
       "  <tbody>\n",
       "    <tr>\n",
       "      <th>0</th>\n",
       "      <td>0</td>\n",
       "      <td>1</td>\n",
       "      <td>0</td>\n",
       "      <td>0</td>\n",
       "      <td>1</td>\n",
       "      <td>1</td>\n",
       "      <td>365</td>\n",
       "      <td>0</td>\n",
       "      <td>0</td>\n",
       "    </tr>\n",
       "    <tr>\n",
       "      <th>1</th>\n",
       "      <td>1</td>\n",
       "      <td>0</td>\n",
       "      <td>1</td>\n",
       "      <td>0</td>\n",
       "      <td>0</td>\n",
       "      <td>0</td>\n",
       "      <td>365</td>\n",
       "      <td>1</td>\n",
       "      <td>0</td>\n",
       "    </tr>\n",
       "    <tr>\n",
       "      <th>2</th>\n",
       "      <td>0</td>\n",
       "      <td>1</td>\n",
       "      <td>0</td>\n",
       "      <td>0</td>\n",
       "      <td>1</td>\n",
       "      <td>1</td>\n",
       "      <td>730</td>\n",
       "      <td>0</td>\n",
       "      <td>0</td>\n",
       "    </tr>\n",
       "    <tr>\n",
       "      <th>3</th>\n",
       "      <td>1</td>\n",
       "      <td>0</td>\n",
       "      <td>0</td>\n",
       "      <td>1</td>\n",
       "      <td>1</td>\n",
       "      <td>0</td>\n",
       "      <td>21</td>\n",
       "      <td>0</td>\n",
       "      <td>0</td>\n",
       "    </tr>\n",
       "    <tr>\n",
       "      <th>4</th>\n",
       "      <td>0</td>\n",
       "      <td>1</td>\n",
       "      <td>0</td>\n",
       "      <td>0</td>\n",
       "      <td>1</td>\n",
       "      <td>1</td>\n",
       "      <td>730</td>\n",
       "      <td>0</td>\n",
       "      <td>1</td>\n",
       "    </tr>\n",
       "    <tr>\n",
       "      <th>5</th>\n",
       "      <td>0</td>\n",
       "      <td>1</td>\n",
       "      <td>1</td>\n",
       "      <td>1</td>\n",
       "      <td>0</td>\n",
       "      <td>0</td>\n",
       "      <td>30</td>\n",
       "      <td>0</td>\n",
       "      <td>1</td>\n",
       "    </tr>\n",
       "    <tr>\n",
       "      <th>6</th>\n",
       "      <td>1</td>\n",
       "      <td>0</td>\n",
       "      <td>0</td>\n",
       "      <td>1</td>\n",
       "      <td>1</td>\n",
       "      <td>0</td>\n",
       "      <td>21</td>\n",
       "      <td>0</td>\n",
       "      <td>0</td>\n",
       "    </tr>\n",
       "    <tr>\n",
       "      <th>7</th>\n",
       "      <td>1</td>\n",
       "      <td>0</td>\n",
       "      <td>0</td>\n",
       "      <td>0</td>\n",
       "      <td>0</td>\n",
       "      <td>0</td>\n",
       "      <td>21</td>\n",
       "      <td>0</td>\n",
       "      <td>0</td>\n",
       "    </tr>\n",
       "    <tr>\n",
       "      <th>8</th>\n",
       "      <td>0</td>\n",
       "      <td>1</td>\n",
       "      <td>1</td>\n",
       "      <td>0</td>\n",
       "      <td>0</td>\n",
       "      <td>0</td>\n",
       "      <td>150</td>\n",
       "      <td>1</td>\n",
       "      <td>0</td>\n",
       "    </tr>\n",
       "    <tr>\n",
       "      <th>9</th>\n",
       "      <td>0</td>\n",
       "      <td>1</td>\n",
       "      <td>1</td>\n",
       "      <td>0</td>\n",
       "      <td>0</td>\n",
       "      <td>0</td>\n",
       "      <td>365</td>\n",
       "      <td>1</td>\n",
       "      <td>1</td>\n",
       "    </tr>\n",
       "  </tbody>\n",
       "</table>\n",
       "</div>"
      ],
      "text/plain": [
       "   Cat  Dog  Female  Intact  Male  Neutered  Age  Spayed  Purebred\n",
       "0    0    1       0       0     1         1  365       0         0\n",
       "1    1    0       1       0     0         0  365       1         0\n",
       "2    0    1       0       0     1         1  730       0         0\n",
       "3    1    0       0       1     1         0   21       0         0\n",
       "4    0    1       0       0     1         1  730       0         1\n",
       "5    0    1       1       1     0         0   30       0         1\n",
       "6    1    0       0       1     1         0   21       0         0\n",
       "7    1    0       0       0     0         0   21       0         0\n",
       "8    0    1       1       0     0         0  150       1         0\n",
       "9    0    1       1       0     0         0  365       1         1"
      ]
     },
     "execution_count": 28,
     "metadata": {},
     "output_type": "execute_result"
    }
   ],
   "source": [
    "X[:10]"
   ]
  },
  {
   "cell_type": "code",
   "execution_count": 29,
   "metadata": {},
   "outputs": [],
   "source": [
    "my_logreg = LogisticRegression()"
   ]
  },
  {
   "cell_type": "code",
   "execution_count": 30,
   "metadata": {},
   "outputs": [],
   "source": [
    "X_train, X_test, y_train, y_test = train_test_split(X,y, test_size=0.20, random_state=4)"
   ]
  },
  {
   "cell_type": "code",
   "execution_count": 31,
   "metadata": {},
   "outputs": [
    {
     "data": {
      "text/plain": [
       "LogisticRegression(C=1.0, class_weight=None, dual=False, fit_intercept=True,\n",
       "          intercept_scaling=1, max_iter=100, multi_class='ovr', n_jobs=1,\n",
       "          penalty='l2', random_state=None, solver='liblinear', tol=0.0001,\n",
       "          verbose=0, warm_start=False)"
      ]
     },
     "execution_count": 31,
     "metadata": {},
     "output_type": "execute_result"
    }
   ],
   "source": [
    "my_logreg.fit(X_train, y_train)"
   ]
  },
  {
   "cell_type": "code",
   "execution_count": 32,
   "metadata": {},
   "outputs": [],
   "source": [
    "y_predict_logred = my_logreg.predict(X_test)"
   ]
  },
  {
   "cell_type": "code",
   "execution_count": 33,
   "metadata": {},
   "outputs": [],
   "source": [
    "accuracy_logred = accuracy_score(y_test, y_predict_logred)"
   ]
  },
  {
   "cell_type": "code",
   "execution_count": 34,
   "metadata": {},
   "outputs": [
    {
     "name": "stdout",
     "output_type": "stream",
     "text": [
      "0.6247661803217359\n"
     ]
    }
   ],
   "source": [
    "print(accuracy_logred)"
   ]
  },
  {
   "cell_type": "code",
   "execution_count": 35,
   "metadata": {
    "scrolled": true
   },
   "outputs": [
    {
     "name": "stdout",
     "output_type": "stream",
     "text": [
      "[0.62990654 0.61794393 0.62341062 0.62116679 0.631638   0.62701085\n",
      " 0.61452096 0.63721453 0.62785474 0.63183521]\n"
     ]
    }
   ],
   "source": [
    "accuracy_list = cross_val_score(my_logreg, X, y, cv=10, scoring='accuracy')\n",
    "\n",
    "print(accuracy_list)"
   ]
  },
  {
   "cell_type": "code",
   "execution_count": 36,
   "metadata": {},
   "outputs": [
    {
     "name": "stdout",
     "output_type": "stream",
     "text": [
      "0.6262502150676673\n"
     ]
    }
   ],
   "source": [
    "accuracy_cv = accuracy_list.mean()\n",
    "\n",
    "print(accuracy_cv)"
   ]
  },
  {
   "cell_type": "code",
   "execution_count": null,
   "metadata": {},
   "outputs": [],
   "source": []
  },
  {
   "cell_type": "code",
   "execution_count": 37,
   "metadata": {},
   "outputs": [
    {
     "name": "stdout",
     "output_type": "stream",
     "text": [
      "0.6249532360643472\n"
     ]
    }
   ],
   "source": [
    "feature_cols = [\"Cat\",\"Dog\",\"Female\",\"Intact\",\"Male\",\"Neutered\",\"Age\",\"Spayed\",\"Agouti\",\"Apricot\",\"Black\",\"Blue\",\"Brindle\",\"Brown\",\"Buff\",\"Calico\",\"Chocolate\",\"Cream\",\"Fawn\",\"Flame\",\"Gold\",\"Gray\",\"Lilac\",\"Liver\",\"Lynx\",\"Merle\",\"Orange\",\"Pink\",\"Point\",\"Red\",\"Ruddy\",\"Sable\",\"Seal\",\"Silver\",\"Smoke\",\"Tabby\",\"Tan\",\"Tick\",\"Tiger\",\"Torbie\",\"Tortie\",\"Tricolor\",\"White\",\"Yellow\",\"Mixed\",\"Purebred\"]\n",
    "\n",
    "X = df[feature_cols]\n",
    "\n",
    "y = df['OutcomeType']\n",
    "\n",
    "my_logreg = LogisticRegression()\n",
    "\n",
    "X_train, X_test, y_train, y_test = train_test_split(X,y, test_size=0.20, random_state=4)\n",
    "\n",
    "my_logreg.fit(X_train, y_train)\n",
    "\n",
    "y_predict_logred = my_logreg.predict(X_test)\n",
    "\n",
    "accuracy_logred = accuracy_score(y_test, y_predict_logred)\n",
    "\n",
    "print(accuracy_logred)\n",
    "\n",
    "\n"
   ]
  },
  {
   "cell_type": "code",
   "execution_count": 38,
   "metadata": {},
   "outputs": [
    {
     "name": "stdout",
     "output_type": "stream",
     "text": [
      "0.6268869886485664\n"
     ]
    }
   ],
   "source": [
    "\n",
    "accuracy_list = cross_val_score(my_logreg, X, y, cv=10, scoring='accuracy')\n",
    "accuracy_cv = accuracy_list.mean()\n",
    "print(accuracy_cv)\n",
    "## ROC Curve "
   ]
  },
  {
   "cell_type": "code",
   "execution_count": null,
   "metadata": {},
   "outputs": [],
   "source": [
    "\n"
   ]
  },
  {
   "cell_type": "code",
   "execution_count": 39,
   "metadata": {},
   "outputs": [
    {
     "name": "stdout",
     "output_type": "stream",
     "text": [
      "0.6251402918069585\n"
     ]
    }
   ],
   "source": [
    "feature_cols = [\"Cat\",\"Dog\",\"Female\",\"Intact\",\"Male\",\"Neutered\",\"Age\",\"Spayed\",\"Agouti\",\"Apricot\",\"Black\",\"Blue\",\"Brindle\",\"Brown\",\"Buff\",\"Calico\",\"Chocolate\",\"Cream\",\"Fawn\",\"Flame\",\"Gold\",\"Gray\",\"Lilac\",\"Liver\",\"Lynx\",\"Merle\",\"Orange\",\"Pink\",\"Point\",\"Red\",\"Ruddy\",\"Sable\",\"Seal\",\"Silver\",\"Smoke\",\"Tabby\",\"Tan\",\"Tick\",\"Tiger\",\"Torbie\",\"Tortie\",\"Tricolor\",\"White\",\"Yellow\",\"Mixed\",\"Purebred\"]\n",
    "\n",
    "X = df[feature_cols]\n",
    "X = preprocessing.scale(X) \n",
    "y = df['OutcomeType']\n",
    "\n",
    "my_logreg = LogisticRegression()\n",
    "\n",
    "X_train, X_test, y_train, y_test = train_test_split(X,y, test_size=0.20, random_state=4)\n",
    "\n",
    "my_logreg.fit(X_train, y_train)\n",
    "\n",
    "y_predict_logred = my_logreg.predict(X_test)\n",
    "\n",
    "accuracy_logred = accuracy_score(y_test, y_predict_logred)\n",
    "\n",
    "print(accuracy_logred)"
   ]
  },
  {
   "cell_type": "code",
   "execution_count": 40,
   "metadata": {},
   "outputs": [
    {
     "name": "stdout",
     "output_type": "stream",
     "text": [
      "0.6271483908783917\n"
     ]
    }
   ],
   "source": [
    "accuracy_list = cross_val_score(my_logreg, X, y, cv=10, scoring='accuracy')\n",
    "accuracy_cv = accuracy_list.mean()\n",
    "print(accuracy_cv)\n",
    "## ROC Curve "
   ]
  },
  {
   "cell_type": "code",
   "execution_count": 41,
   "metadata": {},
   "outputs": [],
   "source": [
    "accuracyList = []\n",
    "features = [\"Cat\",\"Dog\",\"Female\",\"Intact\",\"Male\",\"Neutered\",\"Age\",\"Spayed\",\"Agouti\",\"Apricot\",\"Black\",\"Blue\",\"Brindle\",\"Brown\",\"Buff\",\"Calico\",\"Chocolate\",\"Cream\",\"Fawn\",\"Flame\",\"Gold\",\"Gray\",\"Lilac\",\"Liver\",\"Lynx\",\"Merle\",\"Orange\",\"Pink\",\"Point\",\"Red\",\"Ruddy\",\"Sable\",\"Seal\",\"Silver\",\"Smoke\",\"Tabby\",\"Tan\",\"Tick\",\"Tiger\",\"Torbie\",\"Tortie\",\"Tricolor\",\"White\",\"Yellow\",\"Mixed\",\"Purebred\"]\n",
    "for x in features:\n",
    "    feature_cols = [x]\n",
    "    X= df[feature_cols]\n",
    "    y = df['OutcomeType']\n",
    "    X_train, X_test, y_train, y_test = train_test_split(X,y, test_size=0.4, random_state=6)\n",
    "    my_logreg = LogisticRegression()\n",
    "    my_logreg.fit(X_train, y_train)\n",
    "    y_predict = my_logreg.predict(X_test)\n",
    "    accuracy = accuracy_score(y_test, y_predict)\n",
    "    accuracyList.append(accuracy)\n",
    "    "
   ]
  },
  {
   "cell_type": "code",
   "execution_count": 42,
   "metadata": {},
   "outputs": [
    {
     "data": {
      "text/plain": [
       "[0.4566030677141788,\n",
       " 0.4566030677141788,\n",
       " 0.4047886270108492,\n",
       " 0.5775346053123831,\n",
       " 0.4047886270108492,\n",
       " 0.4765245043022821,\n",
       " 0.4218106995884774,\n",
       " 0.4942012719790498,\n",
       " 0.4047886270108492,\n",
       " 0.4047886270108492,\n",
       " 0.4047886270108492,\n",
       " 0.4022633744855967,\n",
       " 0.4047886270108492,\n",
       " 0.4047886270108492,\n",
       " 0.4047886270108492,\n",
       " 0.40693976805087917,\n",
       " 0.4047886270108492,\n",
       " 0.4047886270108492,\n",
       " 0.4047886270108492,\n",
       " 0.4047886270108492,\n",
       " 0.4057239057239057,\n",
       " 0.40422745978301533,\n",
       " 0.4051627384960718,\n",
       " 0.4049756827534605,\n",
       " 0.4047886270108492,\n",
       " 0.4047886270108492,\n",
       " 0.4114291058735503,\n",
       " 0.4048821548821549,\n",
       " 0.4047886270108492,\n",
       " 0.4047886270108492,\n",
       " 0.4047886270108492,\n",
       " 0.4047886270108492,\n",
       " 0.4049756827534605,\n",
       " 0.4047886270108492,\n",
       " 0.4047886270108492,\n",
       " 0.42976056864945755,\n",
       " 0.4047886270108492,\n",
       " 0.4047886270108492,\n",
       " 0.4047886270108492,\n",
       " 0.4051627384960718,\n",
       " 0.4047886270108492,\n",
       " 0.4047886270108492,\n",
       " 0.4047886270108492,\n",
       " 0.4039468761690984,\n",
       " 0.4047886270108492,\n",
       " 0.4047886270108492]"
      ]
     },
     "execution_count": 42,
     "metadata": {},
     "output_type": "execute_result"
    }
   ],
   "source": [
    "accuracyList"
   ]
  },
  {
   "cell_type": "code",
   "execution_count": null,
   "metadata": {},
   "outputs": [],
   "source": [
    "feature_cols = [\"Cat\",\"Dog\",\"Female\",\"Intact\",\"Male\",\"Neutered\",\"Age\",\"Spayed\",\"Agouti\",\"Apricot\",\"Black\",\"Blue\",\"Brindle\",\"Brown\",\"Buff\",\"Calico\",\"Chocolate\",\"Cream\",\"Fawn\",\"Flame\",\"Gold\",\"Gray\",\"Lilac\",\"Liver\",\"Lynx\",\"Merle\",\"Orange\",\"Pink\",\"Point\",\"Red\",\"Ruddy\",\"Sable\",\"Seal\",\"Silver\",\"Smoke\",\"Tabby\",\"Tan\",\"Tick\",\"Tiger\",\"Torbie\",\"Tortie\",\"Tricolor\",\"White\",\"Yellow\",\"Mixed\",\"Purebred\"]\n",
    "\n",
    "X = df[feature_cols]\n",
    "X = preprocessing.scale(X) \n",
    "y = df['OutcomeType']\n",
    "\n",
    "my_logreg = LogisticRegression()\n",
    "\n",
    "X_train, X_test, y_train, y_test = train_test_split(X,y, test_size=0.20, random_state=4)\n",
    "\n",
    "my_logreg.fit(X_train, y_train)\n",
    "\n",
    "y_predict_logred = my_logreg.predict(X_test)\n",
    "\n",
    "accuracy_logred = accuracy_score(y_test, y_predict_logred)\n",
    "\n",
    "print(accuracy_logred)"
   ]
  },
  {
   "cell_type": "markdown",
   "metadata": {},
   "source": [
    "#### Here We are going to try it with the changed dataset"
   ]
  },
  {
   "cell_type": "code",
   "execution_count": 46,
   "metadata": {},
   "outputs": [
    {
     "name": "stdout",
     "output_type": "stream",
     "text": [
      "0.7962962962962963\n"
     ]
    }
   ],
   "source": [
    "df2 = df =  pd.read_csv('../train_V3R.csv')\n",
    "feature_cols = [\"Cat\",\"Dog\",\"Female\",\"Intact\",\"Male\",\"Neutered\",\"Age\",\"Spayed\",\"Agouti\",\"Apricot\",\"Black\",\"Blue\",\"Brindle\",\"Brown\",\"Buff\",\"Calico\",\"Chocolate\",\"Cream\",\"Fawn\",\"Flame\",\"Gold\",\"Gray\",\"Lilac\",\"Liver\",\"Lynx\",\"Merle\",\"Orange\",\"Pink\",\"Point\",\"Red\",\"Ruddy\",\"Sable\",\"Seal\",\"Silver\",\"Smoke\",\"Tabby\",\"Tan\",\"Tick\",\"Tiger\",\"Torbie\",\"Tortie\",\"Tricolor\",\"White\",\"Yellow\",\"Mixed\",\"Purebred\"]\n",
    "\n",
    "X2 = df2[feature_cols]\n",
    "\n",
    "y2 = df2['OutcomeType']\n",
    "\n",
    "my_logreg = LogisticRegression()\n",
    "\n",
    "X_train, X_test, y_train, y_test = train_test_split(X2,y2, test_size=0.20, random_state=4)\n",
    "\n",
    "my_logreg.fit(X_train, y_train)\n",
    "\n",
    "y_predict_logred = my_logreg.predict(X_test)\n",
    "\n",
    "accuracy_logred = accuracy_score(y_test, y_predict_logred)\n",
    "\n",
    "print(accuracy_logred)\n",
    "\n"
   ]
  },
  {
   "cell_type": "code",
   "execution_count": 47,
   "metadata": {},
   "outputs": [
    {
     "name": "stdout",
     "output_type": "stream",
     "text": [
      "0.799917930506644\n"
     ]
    }
   ],
   "source": [
    "accuracy_list = cross_val_score(my_logreg, X2, y2, cv=10, scoring='accuracy')\n",
    "accuracy_cv = accuracy_list.mean()\n",
    "print(accuracy_cv)"
   ]
  },
  {
   "cell_type": "markdown",
   "metadata": {},
   "source": [
    "1. Introduce Ourselves\n",
    "2. Introduce Topic -- Problems - Why - Address Problems\n",
    "3. Discuss Data Set -- Features -- etc- \n",
    "4. Discuss PreProcessing the Data\n",
    "5. Discuss Methods Used and Results\n",
    "6. Data Analytics: Certain Breeds have a higher chance of survival, certain features correlate to other things etc... \n",
    "7. Outro/Conclusion -- Solution "
   ]
  }
 ],
 "metadata": {
  "kernelspec": {
   "display_name": "Python 3",
   "language": "python",
   "name": "python3"
  },
  "language_info": {
   "codemirror_mode": {
    "name": "ipython",
    "version": 3
   },
   "file_extension": ".py",
   "mimetype": "text/x-python",
   "name": "python",
   "nbconvert_exporter": "python",
   "pygments_lexer": "ipython3",
   "version": "3.7.0"
  }
 },
 "nbformat": 4,
 "nbformat_minor": 2
}
