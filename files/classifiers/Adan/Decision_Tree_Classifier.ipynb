{
 "cells": [
  {
   "cell_type": "code",
   "execution_count": 1,
   "metadata": {},
   "outputs": [],
   "source": [
    "import pandas as pd\n",
    "from sklearn.model_selection import train_test_split\n",
    "from sklearn.neighbors import KNeighborsClassifier\n",
    "from sklearn.metrics import accuracy_score\n",
    "from sklearn.linear_model import LogisticRegression\n",
    "from sklearn.tree import DecisionTreeClassifier\n",
    "from sklearn.preprocessing import OneHotEncoder\n",
    "from sklearn.preprocessing import LabelEncoder\n",
    "from sklearn.model_selection import cross_val_score\n",
    "from sklearn.preprocessing import OneHotEncoder\n",
    "from sklearn import preprocessing \n",
    "from sklearn.linear_model import LinearRegression\n",
    "from sklearn import metrics\n",
    "import numpy as np\n",
    "import matplotlib.pyplot as plt"
   ]
  },
  {
   "cell_type": "code",
   "execution_count": 2,
   "metadata": {},
   "outputs": [],
   "source": [
    "df =  pd.read_csv('../../../data/train_V2.csv')"
   ]
  },
  {
   "cell_type": "code",
   "execution_count": 3,
   "metadata": {},
   "outputs": [
    {
     "data": {
      "text/html": [
       "<div>\n",
       "<style scoped>\n",
       "    .dataframe tbody tr th:only-of-type {\n",
       "        vertical-align: middle;\n",
       "    }\n",
       "\n",
       "    .dataframe tbody tr th {\n",
       "        vertical-align: top;\n",
       "    }\n",
       "\n",
       "    .dataframe thead th {\n",
       "        text-align: right;\n",
       "    }\n",
       "</style>\n",
       "<table border=\"1\" class=\"dataframe\">\n",
       "  <thead>\n",
       "    <tr style=\"text-align: right;\">\n",
       "      <th></th>\n",
       "      <th>Unnamed: 0</th>\n",
       "      <th>OutcomeType</th>\n",
       "      <th>Cat</th>\n",
       "      <th>Dog</th>\n",
       "      <th>Female</th>\n",
       "      <th>Intact</th>\n",
       "      <th>Male</th>\n",
       "      <th>Neutered</th>\n",
       "      <th>Spayed</th>\n",
       "      <th>Age</th>\n",
       "      <th>...</th>\n",
       "      <th>Tan</th>\n",
       "      <th>Tick</th>\n",
       "      <th>Tiger</th>\n",
       "      <th>Torbie</th>\n",
       "      <th>Tortie</th>\n",
       "      <th>Tricolor</th>\n",
       "      <th>White</th>\n",
       "      <th>Yellow</th>\n",
       "      <th>Mixed</th>\n",
       "      <th>Purebred</th>\n",
       "    </tr>\n",
       "  </thead>\n",
       "  <tbody>\n",
       "    <tr>\n",
       "      <th>0</th>\n",
       "      <td>0</td>\n",
       "      <td>Return_to_owner</td>\n",
       "      <td>0</td>\n",
       "      <td>1</td>\n",
       "      <td>0</td>\n",
       "      <td>0</td>\n",
       "      <td>1</td>\n",
       "      <td>1</td>\n",
       "      <td>0</td>\n",
       "      <td>365</td>\n",
       "      <td>...</td>\n",
       "      <td>0</td>\n",
       "      <td>0</td>\n",
       "      <td>0</td>\n",
       "      <td>0</td>\n",
       "      <td>0</td>\n",
       "      <td>0</td>\n",
       "      <td>1</td>\n",
       "      <td>0</td>\n",
       "      <td>1</td>\n",
       "      <td>0</td>\n",
       "    </tr>\n",
       "    <tr>\n",
       "      <th>1</th>\n",
       "      <td>1</td>\n",
       "      <td>Euthanasia</td>\n",
       "      <td>1</td>\n",
       "      <td>0</td>\n",
       "      <td>1</td>\n",
       "      <td>0</td>\n",
       "      <td>0</td>\n",
       "      <td>0</td>\n",
       "      <td>1</td>\n",
       "      <td>365</td>\n",
       "      <td>...</td>\n",
       "      <td>0</td>\n",
       "      <td>0</td>\n",
       "      <td>0</td>\n",
       "      <td>0</td>\n",
       "      <td>0</td>\n",
       "      <td>0</td>\n",
       "      <td>0</td>\n",
       "      <td>0</td>\n",
       "      <td>1</td>\n",
       "      <td>0</td>\n",
       "    </tr>\n",
       "    <tr>\n",
       "      <th>2</th>\n",
       "      <td>2</td>\n",
       "      <td>Adoption</td>\n",
       "      <td>0</td>\n",
       "      <td>1</td>\n",
       "      <td>0</td>\n",
       "      <td>0</td>\n",
       "      <td>1</td>\n",
       "      <td>1</td>\n",
       "      <td>0</td>\n",
       "      <td>730</td>\n",
       "      <td>...</td>\n",
       "      <td>0</td>\n",
       "      <td>0</td>\n",
       "      <td>0</td>\n",
       "      <td>0</td>\n",
       "      <td>0</td>\n",
       "      <td>0</td>\n",
       "      <td>1</td>\n",
       "      <td>0</td>\n",
       "      <td>1</td>\n",
       "      <td>0</td>\n",
       "    </tr>\n",
       "    <tr>\n",
       "      <th>3</th>\n",
       "      <td>3</td>\n",
       "      <td>Transfer</td>\n",
       "      <td>1</td>\n",
       "      <td>0</td>\n",
       "      <td>0</td>\n",
       "      <td>1</td>\n",
       "      <td>1</td>\n",
       "      <td>0</td>\n",
       "      <td>0</td>\n",
       "      <td>21</td>\n",
       "      <td>...</td>\n",
       "      <td>0</td>\n",
       "      <td>0</td>\n",
       "      <td>0</td>\n",
       "      <td>0</td>\n",
       "      <td>0</td>\n",
       "      <td>0</td>\n",
       "      <td>0</td>\n",
       "      <td>0</td>\n",
       "      <td>1</td>\n",
       "      <td>0</td>\n",
       "    </tr>\n",
       "    <tr>\n",
       "      <th>4</th>\n",
       "      <td>4</td>\n",
       "      <td>Transfer</td>\n",
       "      <td>0</td>\n",
       "      <td>1</td>\n",
       "      <td>0</td>\n",
       "      <td>0</td>\n",
       "      <td>1</td>\n",
       "      <td>1</td>\n",
       "      <td>0</td>\n",
       "      <td>730</td>\n",
       "      <td>...</td>\n",
       "      <td>1</td>\n",
       "      <td>0</td>\n",
       "      <td>0</td>\n",
       "      <td>0</td>\n",
       "      <td>0</td>\n",
       "      <td>0</td>\n",
       "      <td>0</td>\n",
       "      <td>0</td>\n",
       "      <td>0</td>\n",
       "      <td>1</td>\n",
       "    </tr>\n",
       "  </tbody>\n",
       "</table>\n",
       "<p>5 rows × 48 columns</p>\n",
       "</div>"
      ],
      "text/plain": [
       "   Unnamed: 0      OutcomeType  Cat  Dog  Female  Intact  Male  Neutered  \\\n",
       "0           0  Return_to_owner    0    1       0       0     1         1   \n",
       "1           1       Euthanasia    1    0       1       0     0         0   \n",
       "2           2         Adoption    0    1       0       0     1         1   \n",
       "3           3         Transfer    1    0       0       1     1         0   \n",
       "4           4         Transfer    0    1       0       0     1         1   \n",
       "\n",
       "   Spayed  Age    ...     Tan  Tick  Tiger  Torbie  Tortie  Tricolor  White  \\\n",
       "0       0  365    ...       0     0      0       0       0         0      1   \n",
       "1       1  365    ...       0     0      0       0       0         0      0   \n",
       "2       0  730    ...       0     0      0       0       0         0      1   \n",
       "3       0   21    ...       0     0      0       0       0         0      0   \n",
       "4       0  730    ...       1     0      0       0       0         0      0   \n",
       "\n",
       "   Yellow  Mixed  Purebred  \n",
       "0       0      1         0  \n",
       "1       0      1         0  \n",
       "2       0      1         0  \n",
       "3       0      1         0  \n",
       "4       0      0         1  \n",
       "\n",
       "[5 rows x 48 columns]"
      ]
     },
     "execution_count": 3,
     "metadata": {},
     "output_type": "execute_result"
    }
   ],
   "source": [
    "df[:5]"
   ]
  },
  {
   "cell_type": "code",
   "execution_count": 4,
   "metadata": {},
   "outputs": [],
   "source": [
    "feature_cols = [\"Cat\",\"Dog\",\"Female\",\"Intact\",\"Male\",\"Neutered\",\"Age\",\"Spayed\",\"Purebred\"]"
   ]
  },
  {
   "cell_type": "code",
   "execution_count": 5,
   "metadata": {},
   "outputs": [],
   "source": [
    "X = df[feature_cols]\n",
    "y = df[\"OutcomeType\"]\n"
   ]
  },
  {
   "cell_type": "code",
   "execution_count": 6,
   "metadata": {},
   "outputs": [],
   "source": [
    "from sklearn.model_selection import train_test_split\n",
    "\n",
    "\n",
    "X_train, X_test, y_train, y_test = train_test_split(X, y, test_size=0.35, random_state=3)"
   ]
  },
  {
   "cell_type": "code",
   "execution_count": 7,
   "metadata": {},
   "outputs": [
    {
     "name": "stdout",
     "output_type": "stream",
     "text": [
      "0.635741769987174\n"
     ]
    }
   ],
   "source": [
    "from sklearn.tree import DecisionTreeClassifier\n",
    "from sklearn.metrics import accuracy_score\n",
    "\n",
    "\n",
    "# our decition tree classifier.\n",
    "my_decisiontree = DecisionTreeClassifier(random_state=3)\n",
    "\n",
    "# trainning the classifier\n",
    "my_decisiontree.fit(X_train, y_train)\n",
    "\n",
    "y_predict_dt = my_decisiontree.predict(X_test)\n",
    "\n",
    "score_dt = accuracy_score(y_test, y_predict_dt)\n",
    "\n",
    "print(score_dt)"
   ]
  },
  {
   "cell_type": "code",
   "execution_count": 8,
   "metadata": {},
   "outputs": [
    {
     "name": "stdout",
     "output_type": "stream",
     "text": [
      "0.6364899529713552\n"
     ]
    }
   ],
   "source": [
    "from sklearn.utils import resample\n",
    "\n",
    "\n",
    "\n",
    "Voting = []\n",
    "\n",
    "for i in range(19):\n",
    "    bootstrap_size = int(0.8 * X.shape[0])\n",
    "    newX, newY = resample(X_train, y_train, n_samples = bootstrap_size , random_state=i , replace = True)\n",
    "    Base_DecisionTree = DecisionTreeClassifier(random_state=3)\n",
    "    Base_DecisionTree.fit(newX, newY)\n",
    "    Voting.append(Base_DecisionTree.predict(X_test))\n",
    "\n",
    "    \n",
    "\n",
    "    \n",
    "# initialize a dictionary of each index to 0:0 and 1:0\n",
    "CountVoting = { x: {\"Adoption\": 0, \"Euthanasia\": 0, \"Transfer\": 0, \"Died\": 0, \"Return_to_owner\": 0} for x in range (len(Voting[0])) }\n",
    "\n",
    "\n",
    "\n",
    "# # do a poll\n",
    "for x in range(19):\n",
    "    for y in range(len(Voting[x])):\n",
    "        CountVoting[y][Voting[x][y]] += 1\n",
    "        \n",
    "# grabing most voted key and set it to an array. \n",
    "ResultsFromVote = [max(CountVoting[x], key=CountVoting[x].get) for x in CountVoting]\n",
    "\n",
    "\n",
    "score_dt = accuracy_score(y_test, ResultsFromVote)\n",
    "print(score_dt)"
   ]
  },
  {
   "cell_type": "code",
   "execution_count": 9,
   "metadata": {},
   "outputs": [],
   "source": [
    "# Intact\n",
    "# Age\n",
    "\n",
    "import matplotlib.pyplot as plt\n",
    "import numpy as np\n"
   ]
  },
  {
   "cell_type": "code",
   "execution_count": 54,
   "metadata": {},
   "outputs": [],
   "source": [
    "# Create the plot object\n",
    "\n",
    "# _, ax = plt.subplots()\n",
    "\n",
    "\n",
    "def scatterplot(x_data, y_data, color, x_label=\"\", y_label=\"\", title=\"\", yscale_log=False):\n",
    "\n",
    "    \n",
    "    print(len(x_data))\n",
    "    print(len(y_data))\n",
    "    # Plot the data, set the size (s), color and transparency (alpha)\n",
    "    # of the points\n",
    "    ax.scatter(x_data, y_data, s = 20, color = color, alpha = 1)\n",
    "\n",
    "    if yscale_log == True:\n",
    "        ax.set_yscale('log')\n",
    "\n",
    "    # Label the axes and provide a title\n",
    "    ax.set_title(title)\n",
    "    ax.set_xlabel(x_label)\n",
    "    ax.set_ylabel(y_label)\n",
    "    \n"
   ]
  },
  {
   "cell_type": "code",
   "execution_count": 55,
   "metadata": {},
   "outputs": [
    {
     "name": "stdout",
     "output_type": "stream",
     "text": [
      "1815\n",
      "1815\n",
      "4268\n",
      "4268\n",
      "10345\n",
      "10345\n",
      "10301\n",
      "10301\n",
      "0\n",
      "0\n"
     ]
    },
    {
     "data": {
      "image/png": "[encoded data removed]",
      "text/plain": [
       "<Figure size 432x288 with 1 Axes>"
      ]
     },
     "metadata": {
      "needs_background": "light"
     },
     "output_type": "display_data"
    }
   ],
   "source": [
    "Age = X[\"Age\"]\n",
    "\n",
    "Intact = X[\"Intact\"]\n",
    "Outcome = df[\"OutcomeType\"]\n",
    "Colors = { \"Euthanasia\": \"r\", \"Return_to_owner\": \"b\", \"Adoption\": \"g\", \"Transfer\": \"y\", \"Died\": \"c\"}\n",
    "Age_Intact_Graph = { \"r\": [[],[]], \"b\": [[],[]], \"g\": [[],[]], \"y\": [[],[]], \"c\": [[],[]] }\n",
    "for x in Age:\n",
    "    Age_Intact_Graph[Colors[Outcome[x]]][0].append(Age[x])\n",
    "    Age_Intact_Graph[Colors[Outcome[x]]][1].append(Intact[x])\n",
    "\n",
    "_, ax = plt.subplots()\n",
    "\n",
    "for i in Colors:\n",
    "    scatterplot(Age_Intact_Graph[Colors[i]][0], Age_Intact_Graph[Colors[i]][1], Colors[i])\n"
   ]
  },
  {
   "cell_type": "code",
   "execution_count": null,
   "metadata": {},
   "outputs": [],
   "source": []
  }
 ],
 "metadata": {
  "kernelspec": {
   "display_name": "Python 3",
   "language": "python",
   "name": "python3"
  },
  "language_info": {
   "codemirror_mode": {
    "name": "ipython",
    "version": 3
   },
   "file_extension": ".py",
   "mimetype": "text/x-python",
   "name": "python",
   "nbconvert_exporter": "python",
   "pygments_lexer": "ipython3",
   "version": "3.7.1"
  }
 },
 "nbformat": 4,
 "nbformat_minor": 2
}
